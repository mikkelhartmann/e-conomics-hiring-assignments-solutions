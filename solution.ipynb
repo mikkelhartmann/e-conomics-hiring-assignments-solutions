{
 "cells": [
  {
   "cell_type": "code",
   "execution_count": 1,
   "metadata": {
    "collapsed": false
   },
   "outputs": [],
   "source": [
    "import numpy as np\n",
    "import pandas as pd\n",
    "import matplotlib.pyplot as plt\n",
    "import baseline_classifier as bsclf\n",
    "%matplotlib inline"
   ]
  },
  {
   "cell_type": "markdown",
   "metadata": {},
   "source": [
    "# Table of content\n",
    "* [1 Description of the assignment](#Introduction)\n",
    "* [2 The data](#TheData)\n",
    "* [3 Loading the data](#LoadingTheData)\n",
    "* [4 Exploratory data analysis](#ExploratoryDataAnalysis)\n",
    "    * [4.1 How many bank entries do companies have?](#HowManyBankEntries)\n",
    "    * [4.2 How many accounts do companies have?](#HowManyAccounts)\n",
    "    * [4.3 How many bank entries are there per account?](#HowManyBankEntriesPerAccount)\n",
    "    * [4.4 Summary of exploratory data analysis](#SummaryOfExploratory)\n",
    "* [5 Looking into a single company in more detail](#SingleCompanyExploratory) \n",
    "    * [5.1 Selecting the data for the company ID int:7cb070e](#selectingDataForSingle)\n",
    "    * [5.2 How many bank entries does the company have?](#howManyBankEntries)\n",
    "    * [5.3 How many of the bank entry texts are unique?](#HowManyBankEntriesAreUnique)\n",
    "    * [5.4 How many accounts does the company have?](#HowManyAccountsDoeThisHave)\n",
    "    * [5.5 How are the bank entries distributed across the different accounts?](#HowAreTheyDistributed)\n",
    "* [6 Building the baseline classifier](#BuildingTheBaselineClassifier) (Part 1)\n",
    "    * [Establishing the probabilities](#EstablishingTheProbabilities)\n",
    "* [7 Testing the baseline classifier](#TestingTheBaselineClassifier)\n",
    "    * [7.1 Testing on a single company](#TestingTheBaselineClassifierOnSingle)\n",
    "    * [7.2 Testing the classifier on each company](#TestingTheBaselineClassifierOnAll)\n",
    "    * [7.3 Summary of the baseline classifier](#SummaryOfTheBaselineClassifier)\n",
    "    * [7.4 Ideas for improving on the baseline classifier](#ImprovingOnTheBaselineClassifier)\n",
    "* [8 Taking advantage of the data across different companies](#TheSecondPart) (Part 2)\n",
    "    * [8.1 Abstraction: Mapping text onto features](#MappingText)\n",
    "\n",
    "# 1. Description of the assignment<a id='Introduction'></a>\n",
    "This is my solution to the hiring assignment e-conomics posed the candidates applying for a position as a Data Scientist on the machine learning team. The assignment is descibed in detail [here](https://github.com/e-conomic/hiring-assigments/tree/master/autosuggest/bankrec-assignment).\n",
    "\n",
    "In short, the assignment is to build a classifier that that can predict which account a given bank entry should be filed under. The assignment is divided into two parts. In the first part the candidate is asked to build and test a classifier __for each__ company. In the second part the candidate is asked to reflect on how one could build a classifier that works __for all__ companies. This would greatly increase the amount of training data and (perhaps) simply the process of classifying the bank entries.\n",
    "\n",
    "# 2. The data<a id='TheData'></a>\n",
    "The dataset consist of expenses from 100 random companies. For each company all expenses  booked in e-conomic are provided, totaling in 737017 bank entries. For each bank entry the following details are included as columns in the dataset:\n",
    "* **CompanyId**: The identifyer of the company to help you slice and dice the data in the right way.\n",
    "* **BankEntryDate (feature)**: The date of the financial transaction.\n",
    "* **BankEntryText (feature)**: The text following along with the financial transaction. This is typically machine generated, but in case of manual transactions they may be manually written by a human.\n",
    "* **BankEntryAmount (feature)**: The amount of the financial transaction. Expenses are negative, earnings are positive.\n",
    "* **AccountNumber (target)**: The account number. The uniquely identifies an account, and can therefore be used as the target variable / the class that we want to predict.\n",
    "* **AccountName**: The name of the account.\n",
    "* **AccountTypeName**: The type of the account."
   ]
  },
  {
   "cell_type": "markdown",
   "metadata": {},
   "source": [
    "# 3. Loading and inspecting the data<a id='LoadingTheData'></a>\n",
    "The data are provided as a csv file and I load it using Pandas."
   ]
  },
  {
   "cell_type": "code",
   "execution_count": 2,
   "metadata": {
    "collapsed": false
   },
   "outputs": [
    {
     "name": "stdout",
     "output_type": "stream",
     "text": [
      "(737017, 8)\n"
     ]
    }
   ],
   "source": [
    "data = pd.read_csv('data/bank_expenses_obfuscated.csv')\n",
    "print(data.shape)"
   ]
  },
  {
   "cell_type": "markdown",
   "metadata": {},
   "source": [
    "We have 737017 entries.\n",
    "\n",
    "Let's look at the first 5 rows of the dataframe."
   ]
  },
  {
   "cell_type": "code",
   "execution_count": 3,
   "metadata": {
    "collapsed": false
   },
   "outputs": [
    {
     "data": {
      "text/html": [
       "<div>\n",
       "<table border=\"1\" class=\"dataframe\">\n",
       "  <thead>\n",
       "    <tr style=\"text-align: right;\">\n",
       "      <th></th>\n",
       "      <th>Unnamed: 0</th>\n",
       "      <th>CompanyId</th>\n",
       "      <th>BankEntryDate</th>\n",
       "      <th>BankEntryText</th>\n",
       "      <th>BankEntryAmount</th>\n",
       "      <th>AccountName</th>\n",
       "      <th>AccountNumber</th>\n",
       "      <th>AccountTypeName</th>\n",
       "    </tr>\n",
       "  </thead>\n",
       "  <tbody>\n",
       "    <tr>\n",
       "      <th>0</th>\n",
       "      <td>0</td>\n",
       "      <td>int:a055470</td>\n",
       "      <td>2016-02-29</td>\n",
       "      <td>str:6cd08e4 int:49fed34</td>\n",
       "      <td>&gt; -1000</td>\n",
       "      <td>str:1e82557</td>\n",
       "      <td>9900</td>\n",
       "      <td>Balance</td>\n",
       "    </tr>\n",
       "    <tr>\n",
       "      <th>1</th>\n",
       "      <td>1</td>\n",
       "      <td>int:a055470</td>\n",
       "      <td>2016-02-29</td>\n",
       "      <td>str:6cd08e4 int:49fed34</td>\n",
       "      <td>&gt; -1000</td>\n",
       "      <td>str:9ce853c</td>\n",
       "      <td>3115</td>\n",
       "      <td>Profit and Loss</td>\n",
       "    </tr>\n",
       "    <tr>\n",
       "      <th>2</th>\n",
       "      <td>2</td>\n",
       "      <td>int:a055470</td>\n",
       "      <td>2016-02-29</td>\n",
       "      <td>str:38248d2</td>\n",
       "      <td>&gt; -100</td>\n",
       "      <td>str:a9f0788</td>\n",
       "      <td>2240</td>\n",
       "      <td>Profit and Loss</td>\n",
       "    </tr>\n",
       "    <tr>\n",
       "      <th>3</th>\n",
       "      <td>3</td>\n",
       "      <td>int:a055470</td>\n",
       "      <td>2016-02-29</td>\n",
       "      <td>str:38248d2</td>\n",
       "      <td>&gt; -100</td>\n",
       "      <td>str:1e82557</td>\n",
       "      <td>9900</td>\n",
       "      <td>Balance</td>\n",
       "    </tr>\n",
       "    <tr>\n",
       "      <th>4</th>\n",
       "      <td>4</td>\n",
       "      <td>int:a055470</td>\n",
       "      <td>2016-02-29</td>\n",
       "      <td>str:c704d91 str:1b0ad3b str:2598b78 str:070dddb</td>\n",
       "      <td>&gt; -10000</td>\n",
       "      <td>str:a67d2b5</td>\n",
       "      <td>2270</td>\n",
       "      <td>Profit and Loss</td>\n",
       "    </tr>\n",
       "  </tbody>\n",
       "</table>\n",
       "</div>"
      ],
      "text/plain": [
       "   Unnamed: 0    CompanyId BankEntryDate  \\\n",
       "0           0  int:a055470    2016-02-29   \n",
       "1           1  int:a055470    2016-02-29   \n",
       "2           2  int:a055470    2016-02-29   \n",
       "3           3  int:a055470    2016-02-29   \n",
       "4           4  int:a055470    2016-02-29   \n",
       "\n",
       "                                     BankEntryText BankEntryAmount  \\\n",
       "0                          str:6cd08e4 int:49fed34         > -1000   \n",
       "1                          str:6cd08e4 int:49fed34         > -1000   \n",
       "2                                      str:38248d2          > -100   \n",
       "3                                      str:38248d2          > -100   \n",
       "4  str:c704d91 str:1b0ad3b str:2598b78 str:070dddb        > -10000   \n",
       "\n",
       "   AccountName  AccountNumber  AccountTypeName  \n",
       "0  str:1e82557           9900          Balance  \n",
       "1  str:9ce853c           3115  Profit and Loss  \n",
       "2  str:a9f0788           2240  Profit and Loss  \n",
       "3  str:1e82557           9900          Balance  \n",
       "4  str:a67d2b5           2270  Profit and Loss  "
      ]
     },
     "execution_count": 3,
     "metadata": {},
     "output_type": "execute_result"
    }
   ],
   "source": [
    "data[0:5]"
   ]
  },
  {
   "cell_type": "markdown",
   "metadata": {},
   "source": [
    "# 4 Exploratory data analysis<a id='ExploratoryDataAnalysis'></a>\n",
    "The goal is to get a better understanding of the data before I build a simple classifier that can work as a baseline for more complicated classifiers. Each subsection will deal with a specific question I have about the data.\n",
    "\n",
    "## 4.1 How many bank entries do the companies have? <a id='HowManyBankEntries'></a>\n",
    "Since the input to the classifier will be bank entries, I should understand how many entries each company has. This way, I can get an idea about how data intensive I can allow the classifiers to be. \n",
    "\n",
    "Below I find the unique company IDs and loop over them to find the total number of bank entries for each company."
   ]
  },
  {
   "cell_type": "code",
   "execution_count": 4,
   "metadata": {
    "collapsed": false
   },
   "outputs": [
    {
     "data": {
      "text/plain": [
       "<matplotlib.text.Text at 0x10db86090>"
      ]
     },
     "execution_count": 4,
     "metadata": {},
     "output_type": "execute_result"
    },
    {
     "data": {
      "image/png": "[encoded data removed]",
      "text/plain": [
       "<matplotlib.figure.Figure at 0x117814210>"
      ]
     },
     "metadata": {},
     "output_type": "display_data"
    }
   ],
   "source": [
    "companies = data['CompanyId'].unique()\n",
    "num_bank_entries_pr_company = np.zeros((100,1))\n",
    "\n",
    "for idx, company in enumerate(companies):\n",
    "    num_bank_entries_pr_company[idx] = data[data.CompanyId==company].count()[0]\n",
    "    \n",
    "plt.bar(range(0,100),num_bank_entries_pr_company)\n",
    "plt.xlabel('Company index')\n",
    "plt.ylabel('number of bank entries for company')"
   ]
  },
  {
   "cell_type": "markdown",
   "metadata": {},
   "source": [
    "So by far the majority of bank entries are located with just a single company! This happens to be the 13th company in the list:"
   ]
  },
  {
   "cell_type": "code",
   "execution_count": 5,
   "metadata": {
    "collapsed": false
   },
   "outputs": [
    {
     "name": "stdout",
     "output_type": "stream",
     "text": [
      "[ 667021.]\n"
     ]
    }
   ],
   "source": [
    "print(num_bank_entries_pr_company[13])"
   ]
  },
  {
   "cell_type": "markdown",
   "metadata": {},
   "source": [
    "So just one of the companies has **about 90 of the entire dataset!**\n",
    "\n",
    "Let have a closer look at some of the other companies: "
   ]
  },
  {
   "cell_type": "code",
   "execution_count": 6,
   "metadata": {
    "collapsed": false
   },
   "outputs": [
    {
     "data": {
      "text/plain": [
       "<matplotlib.text.Text at 0x113db2f10>"
      ]
     },
     "execution_count": 6,
     "metadata": {},
     "output_type": "execute_result"
    },
    {
     "data": {
      "image/png": "[encoded data removed]",
      "text/plain": [
       "<matplotlib.figure.Figure at 0x112cbe750>"
      ]
     },
     "metadata": {},
     "output_type": "display_data"
    }
   ],
   "source": [
    "plt.bar(range(20,100),num_bank_entries_pr_company[20:100])\n",
    "plt.xlabel('Company index')\n",
    "plt.ylabel('number of bank entries for company')"
   ]
  },
  {
   "cell_type": "markdown",
   "metadata": {},
   "source": [
    "It appears that it is much more common to have close to 1000 entries or less. So I won't have as much data per company as I initially thought."
   ]
  },
  {
   "cell_type": "markdown",
   "metadata": {},
   "source": [
    "## 4.2 How many accounts do the companies have? <a id='HowManyAccounts'></a>\n",
    "Since I am building a classifier for each company it is important to know how many accounts each company has. This is also important for the second part of the assigment, since builder a classifier that works for all companies might be difficult if the number of accounts varies a lot between companies.\n",
    "\n",
    "Below I show the number of accounts for each company."
   ]
  },
  {
   "cell_type": "code",
   "execution_count": 7,
   "metadata": {
    "collapsed": false
   },
   "outputs": [
    {
     "data": {
      "text/plain": [
       "<matplotlib.text.Text at 0x1141552d0>"
      ]
     },
     "execution_count": 7,
     "metadata": {},
     "output_type": "execute_result"
    },
    {
     "data": {
      "image/png": "[encoded data removed]",
      "text/plain": [
       "<matplotlib.figure.Figure at 0x113ff6510>"
      ]
     },
     "metadata": {},
     "output_type": "display_data"
    }
   ],
   "source": [
    "num_accounts_pr_company = np.zeros((100,1))\n",
    "for idx, company in enumerate(companies):\n",
    "    company_data = data[data.CompanyId==company]\n",
    "    num_accounts_pr_company[idx] = len(company_data['AccountNumber'].unique())\n",
    "    \n",
    "plt.bar(range(0,100),num_accounts_pr_company)\n",
    "plt.xlabel('Company index')\n",
    "plt.ylabel('number of accounts for company')"
   ]
  },
  {
   "cell_type": "markdown",
   "metadata": {},
   "source": [
    "The number of accounts the companies have vary greatly.\n",
    "\n",
    "A histogram of the number of accounts makes this point more clearly."
   ]
  },
  {
   "cell_type": "code",
   "execution_count": 8,
   "metadata": {
    "collapsed": false
   },
   "outputs": [
    {
     "data": {
      "text/plain": [
       "<matplotlib.text.Text at 0x112cbe390>"
      ]
     },
     "execution_count": 8,
     "metadata": {},
     "output_type": "execute_result"
    },
    {
     "data": {
      "image/png": "[encoded data removed]",
      "text/plain": [
       "<matplotlib.figure.Figure at 0x113e95150>"
      ]
     },
     "metadata": {},
     "output_type": "display_data"
    }
   ],
   "source": [
    "plt.hist(num_accounts_pr_company)\n",
    "plt.xlabel('number of accounts')\n",
    "plt.ylabel('number of companies')"
   ]
  },
  {
   "cell_type": "markdown",
   "metadata": {},
   "source": [
    "Most companies have between 10 and 50 accounts. With so many accounts building a classifier for each account for each company may be a good idea."
   ]
  },
  {
   "cell_type": "markdown",
   "metadata": {},
   "source": [
    "## 4.3 Do companies with more bank entries also have more accounts?<a id='HowManyBankEntriesPerAccount'></a>\n",
    "Ok. So the number of bank entries and accounts vary between companies. If companies with more accounts also have more bank entries, it might make classification easier. Let's have a look:"
   ]
  },
  {
   "cell_type": "code",
   "execution_count": 9,
   "metadata": {
    "collapsed": false
   },
   "outputs": [
    {
     "data": {
      "text/plain": [
       "<matplotlib.text.Text at 0x114dd35d0>"
      ]
     },
     "execution_count": 9,
     "metadata": {},
     "output_type": "execute_result"
    },
    {
     "data": {
      "image/png": "[encoded data removed]",
      "text/plain": [
       "<matplotlib.figure.Figure at 0x1177fdc90>"
      ]
     },
     "metadata": {},
     "output_type": "display_data"
    }
   ],
   "source": [
    "plt.scatter(num_bank_entries_pr_company, num_accounts_pr_company)\n",
    "plt.axis([0, 2000, 0, 120])\n",
    "plt.xlabel('number of bank entries')\n",
    "plt.ylabel('number of accounts')"
   ]
  },
  {
   "cell_type": "markdown",
   "metadata": {},
   "source": [
    "So it does seem that there is a correlation between number of accounts and number of bank entries, but there is a lot of variability. \n",
    "\n",
    "How many bank entries are there per account on average?"
   ]
  },
  {
   "cell_type": "code",
   "execution_count": 10,
   "metadata": {
    "collapsed": false
   },
   "outputs": [
    {
     "data": {
      "text/plain": [
       "[0, 100, 0, 20]"
      ]
     },
     "execution_count": 10,
     "metadata": {},
     "output_type": "execute_result"
    },
    {
     "data": {
      "image/png": "[encoded data removed]",
      "text/plain": [
       "<matplotlib.figure.Figure at 0x114e538d0>"
      ]
     },
     "metadata": {},
     "output_type": "display_data"
    }
   ],
   "source": [
    "bank_entries_per_account_for_each_company = num_bank_entries_pr_company / num_accounts_pr_company\n",
    "plt.bar(range(0,100),bank_entries_per_account_for_each_company)\n",
    "plt.axis([0, 100, 0, 20])"
   ]
  },
  {
   "cell_type": "markdown",
   "metadata": {},
   "source": [
    "Aparrently a lot of the companies have fewer than 10 bank entries per account. This means that if we want to train a classifier per account per company, we had better use a classification model that does not need a lot of data to give good results.\n",
    "\n",
    "## 4.4 Summary of exploratory data analysis<a id='SummaryOfExploratory'></a> \n",
    "* The data contains 100 companies, and 737017 bank entries. Of these **90% (667021/737017) are from a single company!** It is much more common for a company to have close to 1000 bank entries.\n",
    "* Many companies have **between 10 and 50 accounts**.\n",
    "* Many of the companies have **fewer than 10 bank entries per account**, on average."
   ]
  },
  {
   "cell_type": "markdown",
   "metadata": {},
   "source": [
    "## 5 Looking at a single company in more detail<a id='SingleCompanyExploratory'></a>\n",
    "Above I look into the distribution of bank entries and bank accounts across the different companies. This gave a rough idea about what to expect from the data. However, since we are building a classifier for each company, understanding how the bank entries are distributed across the accounts within a company is important.\n",
    "\n",
    "Therefore I will look at the data for a single company in more detail. I will use company **int:7cb070e** as an example.\n",
    "\n",
    "I am looking for the answer to the following questions:\n",
    "* How many of the bank entry texts are unique?\n",
    "* How are the bank entries distributed across the different accounts?"
   ]
  },
  {
   "cell_type": "markdown",
   "metadata": {},
   "source": [
    "## 5.1 Selecting the data for the company ID int:7cb070e<a id='selectingDataForSingle'>\n",
    "Here I load the data from the company."
   ]
  },
  {
   "cell_type": "code",
   "execution_count": 11,
   "metadata": {
    "collapsed": false
   },
   "outputs": [
    {
     "data": {
      "text/html": [
       "<div>\n",
       "<table border=\"1\" class=\"dataframe\">\n",
       "  <thead>\n",
       "    <tr style=\"text-align: right;\">\n",
       "      <th></th>\n",
       "      <th>Unnamed: 0</th>\n",
       "      <th>CompanyId</th>\n",
       "      <th>BankEntryDate</th>\n",
       "      <th>BankEntryText</th>\n",
       "      <th>BankEntryAmount</th>\n",
       "      <th>AccountName</th>\n",
       "      <th>AccountNumber</th>\n",
       "      <th>AccountTypeName</th>\n",
       "    </tr>\n",
       "  </thead>\n",
       "  <tbody>\n",
       "    <tr>\n",
       "      <th>1041</th>\n",
       "      <td>0</td>\n",
       "      <td>int:7cb070e</td>\n",
       "      <td>2016-06-29</td>\n",
       "      <td>str:0910abd str:325c669 str:acbadfb int:e14c8e7</td>\n",
       "      <td>&gt; -10000</td>\n",
       "      <td>str:40b14b3</td>\n",
       "      <td>1310</td>\n",
       "      <td>Profit and Loss</td>\n",
       "    </tr>\n",
       "    <tr>\n",
       "      <th>1042</th>\n",
       "      <td>1</td>\n",
       "      <td>int:7cb070e</td>\n",
       "      <td>2016-06-29</td>\n",
       "      <td>str:4a5eaad str:640555d</td>\n",
       "      <td>&gt; -10000</td>\n",
       "      <td>str:3a4a6a4</td>\n",
       "      <td>1321</td>\n",
       "      <td>Profit and Loss</td>\n",
       "    </tr>\n",
       "    <tr>\n",
       "      <th>1043</th>\n",
       "      <td>2</td>\n",
       "      <td>int:7cb070e</td>\n",
       "      <td>2016-06-28</td>\n",
       "      <td>str:1977f5c</td>\n",
       "      <td>&gt; -100</td>\n",
       "      <td>str:d5770eb</td>\n",
       "      <td>2350</td>\n",
       "      <td>Profit and Loss</td>\n",
       "    </tr>\n",
       "    <tr>\n",
       "      <th>1044</th>\n",
       "      <td>3</td>\n",
       "      <td>int:7cb070e</td>\n",
       "      <td>2016-06-28</td>\n",
       "      <td>str:6086f71</td>\n",
       "      <td>&gt; -10000</td>\n",
       "      <td>str:40b14b3</td>\n",
       "      <td>1310</td>\n",
       "      <td>Profit and Loss</td>\n",
       "    </tr>\n",
       "    <tr>\n",
       "      <th>1045</th>\n",
       "      <td>4</td>\n",
       "      <td>int:7cb070e</td>\n",
       "      <td>2016-06-27</td>\n",
       "      <td>str:2147693</td>\n",
       "      <td>&gt; -10000</td>\n",
       "      <td>str:40b14b3</td>\n",
       "      <td>1310</td>\n",
       "      <td>Profit and Loss</td>\n",
       "    </tr>\n",
       "  </tbody>\n",
       "</table>\n",
       "</div>"
      ],
      "text/plain": [
       "      Unnamed: 0    CompanyId BankEntryDate  \\\n",
       "1041           0  int:7cb070e    2016-06-29   \n",
       "1042           1  int:7cb070e    2016-06-29   \n",
       "1043           2  int:7cb070e    2016-06-28   \n",
       "1044           3  int:7cb070e    2016-06-28   \n",
       "1045           4  int:7cb070e    2016-06-27   \n",
       "\n",
       "                                        BankEntryText BankEntryAmount  \\\n",
       "1041  str:0910abd str:325c669 str:acbadfb int:e14c8e7        > -10000   \n",
       "1042                          str:4a5eaad str:640555d        > -10000   \n",
       "1043                                      str:1977f5c          > -100   \n",
       "1044                                      str:6086f71        > -10000   \n",
       "1045                                      str:2147693        > -10000   \n",
       "\n",
       "      AccountName  AccountNumber  AccountTypeName  \n",
       "1041  str:40b14b3           1310  Profit and Loss  \n",
       "1042  str:3a4a6a4           1321  Profit and Loss  \n",
       "1043  str:d5770eb           2350  Profit and Loss  \n",
       "1044  str:40b14b3           1310  Profit and Loss  \n",
       "1045  str:40b14b3           1310  Profit and Loss  "
      ]
     },
     "execution_count": 11,
     "metadata": {},
     "output_type": "execute_result"
    }
   ],
   "source": [
    "company_df = data[data.CompanyId=='int:7cb070e']\n",
    "company_df[0:5]"
   ]
  },
  {
   "cell_type": "markdown",
   "metadata": {},
   "source": [
    "## 5.2 How many bank entries does the company have?<a id='howManyBankEntries'>"
   ]
  },
  {
   "cell_type": "code",
   "execution_count": 12,
   "metadata": {
    "collapsed": false
   },
   "outputs": [
    {
     "data": {
      "text/plain": [
       "(808, 8)"
      ]
     },
     "execution_count": 12,
     "metadata": {},
     "output_type": "execute_result"
    }
   ],
   "source": [
    "company_df.shape"
   ]
  },
  {
   "cell_type": "markdown",
   "metadata": {},
   "source": [
    "So the company has a total of **808 bank entries**."
   ]
  },
  {
   "cell_type": "markdown",
   "metadata": {},
   "source": [
    "## 5.3 How many of the bank  entry texts are unique?<a id='HowManyBankEntriesAreUnique'></a>\n",
    "The number of distinct bank entry text is important because I would like to use this feature for the baseline classifier.\n",
    "\n",
    "Finding the unique **BankEntryText** for the Company:"
   ]
  },
  {
   "cell_type": "code",
   "execution_count": 13,
   "metadata": {
    "collapsed": false
   },
   "outputs": [
    {
     "name": "stdout",
     "output_type": "stream",
     "text": [
      "320\n"
     ]
    }
   ],
   "source": [
    "unique_bank_entry_texts = company_df['BankEntryText'].unique()\n",
    "print(len(unique_bank_entry_texts))"
   ]
  },
  {
   "cell_type": "markdown",
   "metadata": {},
   "source": [
    "Since the company has a total of **808 bank entries**, finding that **320 of them are distinct** is ok. Since there are only 320 different bank entry text there are bound to be some dublicates."
   ]
  },
  {
   "cell_type": "markdown",
   "metadata": {},
   "source": [
    "## 5.4 How many accounts does the company have?<a id='HowManyAccountsDoeThisHave'></a>"
   ]
  },
  {
   "cell_type": "code",
   "execution_count": 14,
   "metadata": {
    "collapsed": false
   },
   "outputs": [
    {
     "name": "stdout",
     "output_type": "stream",
     "text": [
      "92\n"
     ]
    }
   ],
   "source": [
    "unique_account_numbers = company_df['AccountNumber'].unique()\n",
    "print(len(unique_account_numbers))"
   ]
  },
  {
   "cell_type": "markdown",
   "metadata": {},
   "source": [
    "The company has **92 accounts**. This means that, on average, I will have fewer than 10 data points per account. Furthermore, I will only have about 3 distinct bank entry texts, on average. But let us look into the distribution of bank entry texts in more detail.\n",
    "\n",
    "## 5.5 How are the bank entries distributed across the different accounts?<a id='HowAreTheyDistributed'></a>"
   ]
  },
  {
   "cell_type": "code",
   "execution_count": 15,
   "metadata": {
    "collapsed": false
   },
   "outputs": [
    {
     "data": {
      "text/plain": [
       "<matplotlib.text.Text at 0x11644bbd0>"
      ]
     },
     "execution_count": 15,
     "metadata": {},
     "output_type": "execute_result"
    },
    {
     "data": {
      "image/png": "[encoded data removed]",
      "text/plain": [
       "<matplotlib.figure.Figure at 0x1163a45d0>"
      ]
     },
     "metadata": {},
     "output_type": "display_data"
    }
   ],
   "source": [
    "bank_entries_per_account = np.zeros(unique_account_numbers.shape)\n",
    "for idx, account in enumerate(unique_account_numbers):\n",
    "    bank_entries_per_account[idx] = company_df[company_df.AccountNumber==account].count()[0]\n",
    "    \n",
    "plt.bar(range(0,len(unique_account_numbers)), bank_entries_per_account)\n",
    "plt.xlabel('Account index')\n",
    "plt.ylabel('Number of bank entries')"
   ]
  },
  {
   "cell_type": "markdown",
   "metadata": {},
   "source": [
    "It appears that most of the bank entries are filed under just a few of the accounts. This means that if I can get a classifier to work for the most popular accounts I will be able to get a decent accuracy from the classifier. But it may be difficult to classify corrently into the accounts with 5 or less bank entries."
   ]
  },
  {
   "cell_type": "markdown",
   "metadata": {},
   "source": [
    "# 6 Building a baseline classifier<a id='BuildingTheBaselineClassifier'></a>\n",
    "The exploratory analysis presented above suggests that a reasonable baseline would be to establish the frequency of each **speciic** bank entry going into a spefic account. That is, I want to calculate the following: Given a **BankEntryText** what is the probability that it is classified as **AccountNumber**. When I have this probability for each **AccountNumber**, I can use the highest probability as my classifier. This only works whenever I encounter a **BankEntryText** that is allready in the training data, of course. \n",
    "\n",
    "The classifier basically says: Put the bank entry where you usually put it. It will not be perfect and it only uses a single feature, but it is a reasonable baseline. Any classification system I build should at least be able to beat this raw probabalistic appraoch.\n",
    "\n",
    "For this I will continue to use the company with Conpanyid **int:a055470**"
   ]
  },
  {
   "cell_type": "markdown",
   "metadata": {},
   "source": [
    "## 6.1 Etablishing the probabilities<a id='EstablishingTheProbabilities'></a>\n",
    "I will use the following vectorization: I create a matrix containing the unique bank entries as rows and the bank accounts as columns. \n",
    "\n",
    "The simplest version of the classifier takes the maximum of the elements for each row in the matrice and classifies the **unique BankEntry** as belonging to that account.\n",
    "\n",
    "Below I build up this matrix:"
   ]
  },
  {
   "cell_type": "code",
   "execution_count": 16,
   "metadata": {
    "collapsed": false
   },
   "outputs": [],
   "source": [
    "my_matrix = np.zeros((len(unique_bank_entry_texts),len(unique_account_numbers)))\n",
    "for idx, bank_entry_text in enumerate(unique_bank_entry_texts):\n",
    "    temp = company_df[company_df.BankEntryText == bank_entry_text]\n",
    "    temp_account_numbers = temp['AccountNumber']\n",
    "    for account in temp_account_numbers:\n",
    "        account_index = unique_account_numbers == account\n",
    "        my_matrix[idx, :] = my_matrix[idx, :] + account_index"
   ]
  },
  {
   "cell_type": "markdown",
   "metadata": {},
   "source": [
    "Let's have a look at the matrix"
   ]
  },
  {
   "cell_type": "code",
   "execution_count": 17,
   "metadata": {
    "collapsed": false
   },
   "outputs": [
    {
     "data": {
      "text/plain": [
       "array([[  1.,   0.,   0., ...,   0.,   0.,   0.],\n",
       "       [  0.,   1.,   0., ...,   0.,   0.,   0.],\n",
       "       [  0.,   0.,  30., ...,   0.,   0.,   0.],\n",
       "       ..., \n",
       "       [  0.,   0.,   0., ...,   0.,   0.,   0.],\n",
       "       [  0.,   0.,   0., ...,   0.,   0.,   1.],\n",
       "       [  0.,   0.,   0., ...,   0.,   0.,   0.]])"
      ]
     },
     "execution_count": 17,
     "metadata": {},
     "output_type": "execute_result"
    }
   ],
   "source": [
    "my_matrix"
   ]
  },
  {
   "cell_type": "markdown",
   "metadata": {},
   "source": [
    "So now I have established a matrix containing the information I want. For each **unique BankEntryText** it tell us which accounts these bank entries have been classified to. Do some of the **unique BankEntries** go to different accounts? Let us have a closer look:"
   ]
  },
  {
   "cell_type": "code",
   "execution_count": 18,
   "metadata": {
    "collapsed": false
   },
   "outputs": [
    {
     "data": {
      "text/plain": [
       "array([ 9.,  0.,  0.,  0.,  0.,  0.,  0.,  0.,  0.,  0.,  0.,  0.,  0.,\n",
       "        0.,  2.,  0.,  0.,  0.,  0.,  0.,  0.,  0.,  0.,  0.,  0.,  0.,\n",
       "        0.,  0.,  0.,  0.,  0.,  0.,  0.,  0.,  0.,  0.,  0.,  0.,  0.,\n",
       "        0.,  0.,  0.,  0.,  0.,  0.,  0.,  0.,  0.,  0.,  0.,  0.,  0.,\n",
       "        0.,  0.,  0.,  0.,  0.,  0.,  0.,  0.,  0.,  0.,  0.,  0.,  0.,\n",
       "        0.,  0.,  0.,  0.,  0.,  0.,  0.,  0.,  0.,  0.,  0.,  0.,  0.,\n",
       "        0.,  0.,  0.,  0.,  0.,  0.,  0.,  0.,  0.,  0.,  0.,  0.,  0.,  0.])"
      ]
     },
     "execution_count": 18,
     "metadata": {},
     "output_type": "execute_result"
    }
   ],
   "source": [
    "my_matrix[5,:]"
   ]
  },
  {
   "cell_type": "markdown",
   "metadata": {},
   "source": [
    "So some of the **unique BankEntries** do indeed go to different accounts."
   ]
  },
  {
   "cell_type": "markdown",
   "metadata": {},
   "source": [
    "# 7. Testing the baseline classifier <a id='TestingTheBaselineClassifier'></a> \n",
    "## 7.1 Testing on a single company <a id='TestingTheBaselineClassifierOnSingle'></a>\n",
    "The baseline classifier is implemented in `baseline_classifier.py`. Here I use it on a single company."
   ]
  },
  {
   "cell_type": "code",
   "execution_count": 19,
   "metadata": {
    "collapsed": false
   },
   "outputs": [
    {
     "name": "stdout",
     "output_type": "stream",
     "text": [
      "Number of test cases is: 162\n",
      "number of correct predictions is: 100.0\n",
      "The accuracy is: 0.617283950617\n"
     ]
    },
    {
     "name": "stderr",
     "output_type": "stream",
     "text": [
      "baseline_classifier.py:83: VisibleDeprecationWarning: using a non-integer number instead of an integer will result in an error in the future\n",
      "  classifier[bank_entry] = unique_account_numbers[max_element_idx[counter]]\n"
     ]
    }
   ],
   "source": [
    "company_id = 'int:7cb070e'\n",
    "company_df = data[data.CompanyId == company_id]\n",
    "train_size, test_size, num_correct_predictions, accuracy = bsclf.baseline_classifier(company_df)\n",
    "print('Number of test cases is: ' + str(test_size))\n",
    "print('number of correct predictions is: ' + str(num_correct_predictions))\n",
    "print('The accuracy is: ' + str(accuracy))"
   ]
  },
  {
   "cell_type": "markdown",
   "metadata": {},
   "source": [
    "For a base line that isn't bad"
   ]
  },
  {
   "cell_type": "markdown",
   "metadata": {},
   "source": [
    "## 7.2 Testing the classifier on each company<a id='TestingTheBaselineClassifierOnAll'></a>\n",
    "Above we saw that for the specific company the baseline classifier had an accuracy of 60%. Thats quite ok, but we have allready seen that the number of accounts and bank entries vary a lot between the companies. So how does the baseline do on **every single company?**\n",
    "\n",
    "Below I run the baseline classifier on every company using 80% of the data is training data. The 80% are the oldest 80 % of the data."
   ]
  },
  {
   "cell_type": "code",
   "execution_count": 20,
   "metadata": {
    "collapsed": false
   },
   "outputs": [],
   "source": [
    "reload(bsclf)\n",
    "\n",
    "all_test_sizes = np.zeros((100,1))\n",
    "all_num_correct = np.zeros((100,1))\n",
    "all_accuracies = np.zeros((100,1))\n",
    "for idx, company in enumerate(companies):\n",
    "    company_df = data[data.CompanyId == company]\n",
    "    train_size, test_size, num_correct, accuracy = bsclf.baseline_classifier(company_df)\n",
    "    all_test_sizes[idx] = test_size\n",
    "    all_num_correct[idx] = num_correct\n",
    "    all_accuracies[idx] = accuracy"
   ]
  },
  {
   "cell_type": "markdown",
   "metadata": {},
   "source": [
    "Looking at how the accuracy changes with test size:"
   ]
  },
  {
   "cell_type": "code",
   "execution_count": 21,
   "metadata": {
    "collapsed": false
   },
   "outputs": [
    {
     "name": "stdout",
     "output_type": "stream",
     "text": [
      "The average accuracy is: [ 0.42753461]\n"
     ]
    },
    {
     "data": {
      "image/png": "[encoded data removed]",
      "text/plain": [
       "<matplotlib.figure.Figure at 0x1164c59d0>"
      ]
     },
     "metadata": {},
     "output_type": "display_data"
    }
   ],
   "source": [
    "avg_accuracy = sum(all_accuracies)/len(all_accuracies)\n",
    "\n",
    "plt.plot(all_test_sizes, all_accuracies,'or')\n",
    "plt.plot([0, 1000],[avg_accuracy, avg_accuracy],'-b')\n",
    "plt.axis([0, 1000, 0, 1])\n",
    "plt.xlabel('test size')\n",
    "plt.ylabel('accuracy')\n",
    "\n",
    "print('The average accuracy is: ' + str(avg_accuracy))"
   ]
  },
  {
   "cell_type": "markdown",
   "metadata": {},
   "source": [
    "There is a lot of variability in the accuracy! This is even true for the companies with more than 100 bank entries in the test set. However, above 200 bank entries in the test set the baseline classifier appears to deliver more consistent results. The average accuracy of 42% is not good, but it serves as a fine baseline.\n",
    "\n",
    "Does it do better when a company has fewer accounts?"
   ]
  },
  {
   "cell_type": "code",
   "execution_count": 22,
   "metadata": {
    "collapsed": false
   },
   "outputs": [
    {
     "data": {
      "text/plain": [
       "<matplotlib.text.Text at 0x112f63250>"
      ]
     },
     "execution_count": 22,
     "metadata": {},
     "output_type": "execute_result"
    },
    {
     "data": {
      "image/png": "[encoded data removed]",
      "text/plain": [
       "<matplotlib.figure.Figure at 0x1166b3490>"
      ]
     },
     "metadata": {},
     "output_type": "display_data"
    }
   ],
   "source": [
    "plt.plot(num_accounts_pr_company, all_accuracies,'or')\n",
    "plt.axis([0, 110, 0, 1])\n",
    "plt.xlabel('number of accounts')\n",
    "plt.ylabel('accuracy')"
   ]
  },
  {
   "cell_type": "markdown",
   "metadata": {},
   "source": [
    "Yes, but again the variability is large."
   ]
  },
  {
   "cell_type": "markdown",
   "metadata": {},
   "source": [
    "Below I show a histogram of the accuracy. The histrogram shows clearly that there is a broad distribution of accuracies. So the baseline classifier is not particularly consistent across the companies"
   ]
  },
  {
   "cell_type": "code",
   "execution_count": 23,
   "metadata": {
    "collapsed": false
   },
   "outputs": [
    {
     "data": {
      "text/plain": [
       "<matplotlib.text.Text at 0x112f1b410>"
      ]
     },
     "execution_count": 23,
     "metadata": {},
     "output_type": "execute_result"
    },
    {
     "data": {
      "image/png": "[encoded data removed]",
      "text/plain": [
       "<matplotlib.figure.Figure at 0x1166bc210>"
      ]
     },
     "metadata": {},
     "output_type": "display_data"
    }
   ],
   "source": [
    "plt.hist(all_accuracies)\n",
    "plt.ylabel('number of companies')\n",
    "plt.xlabel('Accuracy')"
   ]
  },
  {
   "cell_type": "markdown",
   "metadata": {},
   "source": [
    "## 7.3 Summary of the baseline classifier<a id='SummaryOfTheBaselineClassifier'></a>\n",
    "Using just a single feature the baseline classifier is able to get an average accuracy of 42%\n",
    "\n",
    "The goal of any improvement to the baseline classifier should be twofold: 1) It should give a narrower distribution of accuracies. This means that different clients will have consistent experiences. 2) It should increase the average accuracy."
   ]
  },
  {
   "cell_type": "markdown",
   "metadata": {},
   "source": [
    "## 7.4 Ideas for improving on the baseline classifier<a id='ImprovingOnTheBaselineClassifier'></a>\n",
    "An obvious approach to improving the classifier is to considre more features. We only have two extra feature to consider. The data of the bank entry and the ammount of the bank entry.\n",
    "\n",
    "Of these the amount is probably the most promising."
   ]
  },
  {
   "cell_type": "markdown",
   "metadata": {},
   "source": [
    "# 8 The second part<a id='TheSecondPart'></a>\n",
    "Making a classifier that can take advantage of data across different companies might improve the accuracy. It would also help avoid the __cold start__ problem where newcommers to the service have a bad experience because they have no data for us to use.\n",
    "\n",
    "I was asked to think about how one might solve the problem without actually building a classifier. So below I will outline different approaches to the problem. Exploratory analysis will be included whenever I feel it helps flesh out the idea.\n",
    "\n",
    "## 8.1 Abstraction: Mapping text onto features<a id='MappingText'></a>\n",
    "One way to get around this is to build a classifier that is based on the name of the account name rather than the speficic account id. In this way, if a company open up a new account with a title that is allready known we would be able to use the information from other companies. \n",
    "\n",
    "The general idea is that the name of the account tells us something about how the account is used. If the name of the account is **transport** then it is probably a good place to file transport related bank entries. If different companies uses the same account names we will be able to use the data across different companies.\n",
    "\n",
    "This approach require that different companies use accounts with the same names in a similar manner. I was told in the assignment text that this is not neccesarely the case. It also suffers if several accounts have similar names such as **transport for clients**, **transport for employee**.\n",
    "\n",
    "### 8.1.1 How many different bank accounts names and entry texts are there?"
   ]
  },
  {
   "cell_type": "code",
   "execution_count": 24,
   "metadata": {
    "collapsed": false
   },
   "outputs": [
    {
     "name": "stdout",
     "output_type": "stream",
     "text": [
      "There are 2075 different account names\n",
      "There are 3863 accounts in total\n",
      "There are 46571 different bank entry texts\n"
     ]
    }
   ],
   "source": [
    "unique_account_names = data['AccountName'].unique()\n",
    "print('There are ' + str(len(unique_account_names)) + ' different account names')\n",
    "print('There are ' + str(int(sum(num_accounts_pr_company))) + ' accounts in total') \n",
    "\n",
    "unique_bank_entry_texts = data['BankEntryText'].unique()\n",
    "print('There are ' + str(len(unique_bank_entry_texts)) + ' different bank entry texts')"
   ]
  },
  {
   "cell_type": "markdown",
   "metadata": {},
   "source": [
    "### 8.1.2 How many bank entries does each account have?"
   ]
  },
  {
   "cell_type": "code",
   "execution_count": 25,
   "metadata": {
    "collapsed": false
   },
   "outputs": [],
   "source": [
    "unique_account_bank_entry_counter = np.zeros((len(unique_account_names),1))\n",
    "for idx, account_name in enumerate(unique_account_names):\n",
    "    temp_df = data[data.AccountName == account_name]\n",
    "    unique_account_bank_entry_counter[idx] = len(temp_df)"
   ]
  },
  {
   "cell_type": "code",
   "execution_count": 26,
   "metadata": {
    "collapsed": false
   },
   "outputs": [
    {
     "data": {
      "text/plain": [
       "<matplotlib.text.Text at 0x116a3c2d0>"
      ]
     },
     "execution_count": 26,
     "metadata": {},
     "output_type": "execute_result"
    },
    {
     "data": {
      "image/png": "[encoded data removed]",
      "text/plain": [
       "<matplotlib.figure.Figure at 0x1169fe5d0>"
      ]
     },
     "metadata": {},
     "output_type": "display_data"
    }
   ],
   "source": [
    "plt.hist(unique_account_bank_entry_counter,bins=range(0,1000,1))\n",
    "plt.axis([0, 150, 0, 100])\n",
    "plt.xlabel('number of bank entries')\n",
    "plt.ylabel('number of bank accounts')"
   ]
  },
  {
   "cell_type": "markdown",
   "metadata": {},
   "source": [
    "The vast majority of the of the unique bank account names have fewer than 10 bank entries.\n",
    "\n",
    "So one should focus on the account usage, rahter than the naming. One also has to group similar accounts together. Pooling of the accounts is nescessary to get enough data to train any machine learning algorithm at all."
   ]
  }
 ],
 "metadata": {
  "kernelspec": {
   "display_name": "Python 2",
   "language": "python",
   "name": "python2"
  },
  "language_info": {
   "codemirror_mode": {
    "name": "ipython",
    "version": 2
   },
   "file_extension": ".py",
   "mimetype": "text/x-python",
   "name": "python",
   "nbconvert_exporter": "python",
   "pygments_lexer": "ipython2",
   "version": "2.7.9"
  }
 },
 "nbformat": 4,
 "nbformat_minor": 2
}
