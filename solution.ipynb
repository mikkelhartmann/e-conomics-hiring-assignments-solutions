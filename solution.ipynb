{
 "cells": [
  {
   "cell_type": "markdown",
   "metadata": {},
   "source": [
    "# Table of content\n",
    "* [The assignment](#Introduction)\n",
    "* [Loading the data](#LoadingTheData)\n",
    "* [Exploratory data analysis](#ExploratoryDataAnalysis)\n",
    "    * [How many bank entries do companies have?](#HowManyBankEntries)\n",
    "    * [How many accounts do companies have?](#HowManyAccounts)\n",
    "    * [How many bank entries are there per account?](#HowManyBankEntriesPerAccount)\n",
    "    * [Looking into a single company in more detail](#SingleCompanyExploratory)\n",
    "* [Building the baseline classifier](#BuildingTheBaselineClassifier) (Part 1)\n",
    "    * [Testing the baseline classifier](#TestingTheBaselineClassifier)\n",
    "* [Taking advantage of the data across different companies](#TheSecondPart) (Part 2)\n",
    "\n",
    "# The assignment<a id='Introduction'></a>\n",
    "This is my solution to the hiring assignment posed to candidates applying for a Data Science position at e-conomic. The assignment is descibed in detail in [here](https://github.com/e-conomic/hiring-assigments/tree/master/autosuggest/bankrec-assignment)\n",
    "\n",
    "In short the assignment is to build a classifier that that can predict which account a given bank entry should be filed under. The assignment is divided into two parts. In the first the candidate is asked to build and test a classifier __for each__ company. In the second part the candidate is asked to reflect on how one could build a classifier that works __for all__ companies. This would greatly increase the amount of training data and (perhaps) simply the process of classifying the bank entries.\n",
    "\n",
    "# The data\n",
    "The dataset consist of expenses from 100 random companies. For each company we provide all expenses that was booked in e-conomic (737017 bank entries in total). \n",
    "\n",
    "Description of each column in the dataset:\n",
    "* **CompanyId**: The identifyer of the company to help you slice and dice the data in the right way.\n",
    "* **BankEntryDate (feature)**: The date of the financial transaction.\n",
    "* **BankEntryText (feature)**: The text following along with the financial transaction. This is typically machine generated, but in case of manual transactions they may be manually written by a human.\n",
    "* **BankEntryAmount (feature)**: The amount of the financial transaction. Expenses are negative, earnings are positive.\n",
    "* **AccountNumber (target)**: The account number. The uniquely identifies an account, and can therefore be used as the target variable / the class that we want to predict.\n",
    "* **AccountName**: The name of the account.\n",
    "* **AccountTypeName**: The type of the account.\n",
    "\n",
    "# Summary of main finding\n",
    "* The data contains 100 companies, and 737017 bank entries. Of these **90% (667021/737017) are from a single company!** It is much more common for a company to have close to 1000 bank entries\n",
    "* Many of the companies have **fewer than 10 bank entries per account**, on average."
   ]
  },
  {
   "cell_type": "markdown",
   "metadata": {},
   "source": [
    "# Loading and inspecting the data<a id='LoadingTheData'></a>"
   ]
  },
  {
   "cell_type": "code",
   "execution_count": 550,
   "metadata": {
    "collapsed": false
   },
   "outputs": [
    {
     "name": "stdout",
     "output_type": "stream",
     "text": [
      "(737017, 8)\n"
     ]
    }
   ],
   "source": [
    "import numpy as np\n",
    "import csv\n",
    "import pandas as pd\n",
    "import matplotlib.pyplot as plt\n",
    "%matplotlib inline\n",
    "\n",
    "data = pd.read_csv('bank_expenses_obfuscated.csv')\n",
    "\n",
    "print(data.shape)"
   ]
  },
  {
   "cell_type": "markdown",
   "metadata": {},
   "source": [
    "We have 737017 entries.\n",
    "\n",
    "Let's look at the first 5 rows of the dataframe."
   ]
  },
  {
   "cell_type": "code",
   "execution_count": 551,
   "metadata": {
    "collapsed": false
   },
   "outputs": [
    {
     "name": "stdout",
     "output_type": "stream",
     "text": [
      "   Unnamed: 0    CompanyId BankEntryDate  \\\n",
      "0           0  int:a055470    2016-02-29   \n",
      "1           1  int:a055470    2016-02-29   \n",
      "2           2  int:a055470    2016-02-29   \n",
      "3           3  int:a055470    2016-02-29   \n",
      "4           4  int:a055470    2016-02-29   \n",
      "\n",
      "                                     BankEntryText BankEntryAmount  \\\n",
      "0                          str:6cd08e4 int:49fed34         > -1000   \n",
      "1                          str:6cd08e4 int:49fed34         > -1000   \n",
      "2                                      str:38248d2          > -100   \n",
      "3                                      str:38248d2          > -100   \n",
      "4  str:c704d91 str:1b0ad3b str:2598b78 str:070dddb        > -10000   \n",
      "\n",
      "   AccountName  AccountNumber  AccountTypeName  \n",
      "0  str:1e82557           9900          Balance  \n",
      "1  str:9ce853c           3115  Profit and Loss  \n",
      "2  str:a9f0788           2240  Profit and Loss  \n",
      "3  str:1e82557           9900          Balance  \n",
      "4  str:a67d2b5           2270  Profit and Loss  \n"
     ]
    }
   ],
   "source": [
    "print(data[0:5])"
   ]
  },
  {
   "cell_type": "markdown",
   "metadata": {},
   "source": [
    "# Exploratory data analysis<a id='ExploratoryDataAnalysis'></a>\n",
    "## How many bank entries do the companies have? <a id='HowManyBankEntries'></a>"
   ]
  },
  {
   "cell_type": "code",
   "execution_count": 552,
   "metadata": {
    "collapsed": false
   },
   "outputs": [
    {
     "data": {
      "text/plain": [
       "<matplotlib.text.Text object at 0x116cd1650>"
      ]
     },
     "execution_count": 552,
     "metadata": {},
     "output_type": "execute_result"
    },
    {
     "data": {
      "image/png": "[encoded data removed]",
      "text/plain": [
       "<matplotlib.figure.Figure object at 0x1204a7b50>"
      ]
     },
     "metadata": {},
     "output_type": "display_data"
    }
   ],
   "source": [
    "companies = data['CompanyId'].unique()\n",
    "companies.shape\n",
    "\n",
    "kk = 0\n",
    "numBankEntries = np.zeros((100,1))\n",
    "for company in companies:\n",
    "    numBankEntriesTemp = data[data.CompanyId==company].count()[0]\n",
    "    numBankEntries[kk] = numBankEntriesTemp\n",
    "    kk += 1\n",
    "    \n",
    "plt.bar(range(0,100),numBankEntries)\n",
    "plt.xlabel('Company index')\n",
    "plt.ylabel('number of bank entries for company')"
   ]
  },
  {
   "cell_type": "markdown",
   "metadata": {},
   "source": [
    "So by far the majority of bank entries are located with just a single company!"
   ]
  },
  {
   "cell_type": "code",
   "execution_count": 553,
   "metadata": {
    "collapsed": false
   },
   "outputs": [
    {
     "data": {
      "text/plain": [
       "array([ 667021.])"
      ]
     },
     "execution_count": 553,
     "metadata": {},
     "output_type": "execute_result"
    }
   ],
   "source": [
    "numBankEntries[13]"
   ]
  },
  {
   "cell_type": "markdown",
   "metadata": {},
   "source": [
    "It would be tempting to contine the analysis using this company, but it would be very representative of the average company.\n",
    "\n",
    "Looking at 80 of the companies we see that it is much more common to have close to, or below 1000 entries. "
   ]
  },
  {
   "cell_type": "code",
   "execution_count": 554,
   "metadata": {
    "collapsed": false
   },
   "outputs": [
    {
     "data": {
      "text/plain": [
       "<matplotlib.text.Text object at 0x116d68710>"
      ]
     },
     "execution_count": 554,
     "metadata": {},
     "output_type": "execute_result"
    },
    {
     "data": {
      "image/png": "[encoded data removed]",
      "text/plain": [
       "<matplotlib.figure.Figure object at 0x12712d250>"
      ]
     },
     "metadata": {},
     "output_type": "display_data"
    }
   ],
   "source": [
    "plt.bar(range(0,80),numBankEntries[20:100])\n",
    "plt.xlabel('Company index')\n",
    "plt.ylabel('number of bank entries for company')"
   ]
  },
  {
   "cell_type": "code",
   "execution_count": 555,
   "metadata": {
    "collapsed": false
   },
   "outputs": [
    {
     "name": "stdout",
     "output_type": "stream",
     "text": [
      "('int:a055470', array([ 292.]))\n",
      "('int:d113597', array([ 749.]))\n",
      "('int:7cb070e', array([ 808.]))\n",
      "('int:4688107', array([ 718.]))\n",
      "('int:fadeb6a', array([ 1267.]))\n",
      "('int:70a517b', array([ 413.]))\n",
      "('int:0803ca7', array([ 72.]))\n",
      "('int:c83caff', array([ 1709.]))\n",
      "('int:d5ab817', array([ 366.]))\n",
      "('int:3b4d93c', array([ 104.]))\n"
     ]
    }
   ],
   "source": [
    "for index in range(0,10):\n",
    "    print(companies[index],numBankEntries[index])"
   ]
  },
  {
   "cell_type": "markdown",
   "metadata": {},
   "source": [
    "## How many accounts do the companies have? <a id='HowManyAccounts'></a>"
   ]
  },
  {
   "cell_type": "code",
   "execution_count": 556,
   "metadata": {
    "collapsed": false
   },
   "outputs": [
    {
     "data": {
      "text/plain": [
       "<matplotlib.text.Text object at 0x11aa5c350>"
      ]
     },
     "execution_count": 556,
     "metadata": {},
     "output_type": "execute_result"
    },
    {
     "data": {
      "image/png": "[encoded data removed]",
      "text/plain": [
       "<matplotlib.figure.Figure object at 0x11b713e90>"
      ]
     },
     "metadata": {},
     "output_type": "display_data"
    }
   ],
   "source": [
    "kk = 0\n",
    "numAccounts = np.zeros((100,1))\n",
    "for company in companies:\n",
    "    company_data = data[data.CompanyId==company]\n",
    "    numAccountsUnique = company_data['AccountNumber'].unique()\n",
    "    numAccounts[kk] = numAccountsUnique.shape[0]\n",
    "    kk += 1\n",
    "    \n",
    "plt.bar(range(0,100),numAccounts)\n",
    "plt.xlabel('Company index')\n",
    "plt.ylabel('number of accounts for company')"
   ]
  },
  {
   "cell_type": "markdown",
   "metadata": {},
   "source": [
    "The number of accounts the companies have varies greatly.\n",
    "\n",
    "A histogram of the number of accounts makes this point more clearly."
   ]
  },
  {
   "cell_type": "code",
   "execution_count": 582,
   "metadata": {
    "collapsed": false
   },
   "outputs": [
    {
     "data": {
      "text/plain": [
       "<matplotlib.text.Text object at 0x12228c290>"
      ]
     },
     "execution_count": 582,
     "metadata": {},
     "output_type": "execute_result"
    },
    {
     "data": {
      "image/png": "[encoded data removed]",
      "text/plain": [
       "<matplotlib.figure.Figure object at 0x1222eac50>"
      ]
     },
     "metadata": {},
     "output_type": "display_data"
    }
   ],
   "source": [
    "plt.hist(numAccounts)\n",
    "plt.xlabel('number of accounts')\n",
    "plt.ylabel('number of companies')"
   ]
  },
  {
   "cell_type": "markdown",
   "metadata": {},
   "source": [
    "Most companies have between 10 and 50 accounts. "
   ]
  },
  {
   "cell_type": "markdown",
   "metadata": {},
   "source": [
    "## Do companies with more bank entries also have more accounts?<a id='HowManyBankEntriesPerAccount'></a>\n"
   ]
  },
  {
   "cell_type": "code",
   "execution_count": 557,
   "metadata": {
    "collapsed": false
   },
   "outputs": [
    {
     "data": {
      "text/plain": [
       "<matplotlib.text.Text object at 0x11c2dd790>"
      ]
     },
     "execution_count": 557,
     "metadata": {},
     "output_type": "execute_result"
    },
    {
     "data": {
      "image/png": "[encoded data removed]",
      "text/plain": [
       "<matplotlib.figure.Figure object at 0x11b1d8590>"
      ]
     },
     "metadata": {},
     "output_type": "display_data"
    }
   ],
   "source": [
    "plt.scatter(numBankEntries,numAccounts)\n",
    "plt.axis([0, 2000, 0, 120])\n",
    "plt.xlabel('number of bank entries for company')\n",
    "plt.ylabel('number of accounts for company')"
   ]
  },
  {
   "cell_type": "code",
   "execution_count": 558,
   "metadata": {
    "collapsed": false
   },
   "outputs": [
    {
     "data": {
      "text/plain": [
       "[0, 100, 0, 20]"
      ]
     },
     "execution_count": 558,
     "metadata": {},
     "output_type": "execute_result"
    },
    {
     "data": {
      "image/png": "[encoded data removed]",
      "text/plain": [
       "<matplotlib.figure.Figure object at 0x11b713810>"
      ]
     },
     "metadata": {},
     "output_type": "display_data"
    }
   ],
   "source": [
    "bankEntriesPerAccount = numBankEntries/numAccounts\n",
    "plt.bar(range(0,100),bankEntriesPerAccount)\n",
    "plt.axis([0, 100, 0, 20])"
   ]
  },
  {
   "cell_type": "markdown",
   "metadata": {},
   "source": [
    "So it seems that quite a lot of the companies have fewer than 10 bank entries per account. This means that if we want to train a classifier per account per company, we had better use a classification model that does not need a lot of data to give good results."
   ]
  },
  {
   "cell_type": "markdown",
   "metadata": {},
   "source": [
    "# Looking at a single company in more detail<a id='SingleCompanyExploratory'></a>\n",
    "I will start by looking a the data for a single company. We will use **int:7cb070e**. First i selevt just the data from ths company."
   ]
  },
  {
   "cell_type": "code",
   "execution_count": 559,
   "metadata": {
    "collapsed": false
   },
   "outputs": [
    {
     "data": {
      "text/html": [
       "<div>\n",
       "<table border=\"1\" class=\"dataframe\">\n",
       "  <thead>\n",
       "    <tr style=\"text-align: right;\">\n",
       "      <th></th>\n",
       "      <th>Unnamed: 0</th>\n",
       "      <th>CompanyId</th>\n",
       "      <th>BankEntryDate</th>\n",
       "      <th>BankEntryText</th>\n",
       "      <th>BankEntryAmount</th>\n",
       "      <th>AccountName</th>\n",
       "      <th>AccountNumber</th>\n",
       "      <th>AccountTypeName</th>\n",
       "    </tr>\n",
       "  </thead>\n",
       "  <tbody>\n",
       "    <tr>\n",
       "      <th>1041</th>\n",
       "      <td>0</td>\n",
       "      <td>int:7cb070e</td>\n",
       "      <td>2016-06-29</td>\n",
       "      <td>str:0910abd str:325c669 str:acbadfb int:e14c8e7</td>\n",
       "      <td>&gt; -10000</td>\n",
       "      <td>str:40b14b3</td>\n",
       "      <td>1310</td>\n",
       "      <td>Profit and Loss</td>\n",
       "    </tr>\n",
       "    <tr>\n",
       "      <th>1042</th>\n",
       "      <td>1</td>\n",
       "      <td>int:7cb070e</td>\n",
       "      <td>2016-06-29</td>\n",
       "      <td>str:4a5eaad str:640555d</td>\n",
       "      <td>&gt; -10000</td>\n",
       "      <td>str:3a4a6a4</td>\n",
       "      <td>1321</td>\n",
       "      <td>Profit and Loss</td>\n",
       "    </tr>\n",
       "    <tr>\n",
       "      <th>1043</th>\n",
       "      <td>2</td>\n",
       "      <td>int:7cb070e</td>\n",
       "      <td>2016-06-28</td>\n",
       "      <td>str:1977f5c</td>\n",
       "      <td>&gt; -100</td>\n",
       "      <td>str:d5770eb</td>\n",
       "      <td>2350</td>\n",
       "      <td>Profit and Loss</td>\n",
       "    </tr>\n",
       "    <tr>\n",
       "      <th>1044</th>\n",
       "      <td>3</td>\n",
       "      <td>int:7cb070e</td>\n",
       "      <td>2016-06-28</td>\n",
       "      <td>str:6086f71</td>\n",
       "      <td>&gt; -10000</td>\n",
       "      <td>str:40b14b3</td>\n",
       "      <td>1310</td>\n",
       "      <td>Profit and Loss</td>\n",
       "    </tr>\n",
       "    <tr>\n",
       "      <th>1045</th>\n",
       "      <td>4</td>\n",
       "      <td>int:7cb070e</td>\n",
       "      <td>2016-06-27</td>\n",
       "      <td>str:2147693</td>\n",
       "      <td>&gt; -10000</td>\n",
       "      <td>str:40b14b3</td>\n",
       "      <td>1310</td>\n",
       "      <td>Profit and Loss</td>\n",
       "    </tr>\n",
       "  </tbody>\n",
       "</table>\n",
       "</div>"
      ],
      "text/plain": [
       "      Unnamed: 0    CompanyId BankEntryDate  \\\n",
       "1041           0  int:7cb070e    2016-06-29   \n",
       "1042           1  int:7cb070e    2016-06-29   \n",
       "1043           2  int:7cb070e    2016-06-28   \n",
       "1044           3  int:7cb070e    2016-06-28   \n",
       "1045           4  int:7cb070e    2016-06-27   \n",
       "\n",
       "                                        BankEntryText BankEntryAmount  \\\n",
       "1041  str:0910abd str:325c669 str:acbadfb int:e14c8e7        > -10000   \n",
       "1042                          str:4a5eaad str:640555d        > -10000   \n",
       "1043                                      str:1977f5c          > -100   \n",
       "1044                                      str:6086f71        > -10000   \n",
       "1045                                      str:2147693        > -10000   \n",
       "\n",
       "      AccountName  AccountNumber  AccountTypeName  \n",
       "1041  str:40b14b3           1310  Profit and Loss  \n",
       "1042  str:3a4a6a4           1321  Profit and Loss  \n",
       "1043  str:d5770eb           2350  Profit and Loss  \n",
       "1044  str:40b14b3           1310  Profit and Loss  \n",
       "1045  str:40b14b3           1310  Profit and Loss  "
      ]
     },
     "execution_count": 559,
     "metadata": {},
     "output_type": "execute_result"
    }
   ],
   "source": [
    "company_df = data[data.CompanyId=='int:7cb070e']\n",
    "company_df[0:5]"
   ]
  },
  {
   "cell_type": "markdown",
   "metadata": {},
   "source": []
  },
  {
   "cell_type": "code",
   "execution_count": 560,
   "metadata": {
    "collapsed": false
   },
   "outputs": [
    {
     "data": {
      "text/plain": [
       "(808, 8)"
      ]
     },
     "execution_count": 560,
     "metadata": {},
     "output_type": "execute_result"
    }
   ],
   "source": [
    "company_df.shape"
   ]
  },
  {
   "cell_type": "markdown",
   "metadata": {},
   "source": [
    "So the company has a total of **808 bank entries**.\n",
    "\n",
    "How many accounts does the company have?"
   ]
  },
  {
   "cell_type": "code",
   "execution_count": 561,
   "metadata": {
    "collapsed": false
   },
   "outputs": [
    {
     "name": "stdout",
     "output_type": "stream",
     "text": [
      "92\n"
     ]
    }
   ],
   "source": [
    "AccountNumber = company_df['AccountNumber'].unique()\n",
    "numUniqueAccounts = AccountNumber.shape[0]\n",
    "print(numUniqueAccounts)"
   ]
  },
  {
   "cell_type": "markdown",
   "metadata": {},
   "source": [
    "The company has **92 accounts**"
   ]
  },
  {
   "cell_type": "code",
   "execution_count": 562,
   "metadata": {
    "collapsed": false
   },
   "outputs": [
    {
     "data": {
      "text/plain": [
       "<matplotlib.text.Text object at 0x11b3dd510>"
      ]
     },
     "execution_count": 562,
     "metadata": {},
     "output_type": "execute_result"
    },
    {
     "data": {
      "image/png": "[encoded data removed]",
      "text/plain": [
       "<matplotlib.figure.Figure object at 0x11b4bcd50>"
      ]
     },
     "metadata": {},
     "output_type": "display_data"
    }
   ],
   "source": [
    "bakEntriesPerAccount = np.zeros(AccountNumber.shape)\n",
    "kk=0\n",
    "for item in AccountNumber:\n",
    "    temp_bakEntriesPerAccount = company_df[company_df.AccountNumber==item].count()[0]\n",
    "    bakEntriesPerAccount[kk] = temp_bakEntriesPerAccount\n",
    "    kk += 1\n",
    "\n",
    "plt.bar(range(0,AccountNumber.shape[0]),popularity,)\n",
    "plt.xlabel('Account index')\n",
    "plt.ylabel('Number of bank entries')"
   ]
  },
  {
   "cell_type": "markdown",
   "metadata": {},
   "source": [
    "So this is the popularity of each of each Account. The index on the x-axis corresponds to the indexing of AccountNumber, that is:"
   ]
  },
  {
   "cell_type": "code",
   "execution_count": 563,
   "metadata": {
    "collapsed": false
   },
   "outputs": [
    {
     "data": {
      "text/plain": [
       "array([1310, 1321, 2350, 3600, 5680, 1031, 2355, 6920, 3620, 1033, 1032,\n",
       "       6903, 3411, 3675, 1910, 3604, 1362, 3010, 3420, 6921, 3663, 3662,\n",
       "       1312, 6917, 2360, 1320, 3020, 1342, 2222, 6760, 1370, 3030, 6570,\n",
       "       1322, 3621, 3430, 3060, 1341, 1343, 3040, 3640, 3260, 3610, 1351,\n",
       "       3330, 1332, 1333, 1331, 5660, 3628, 2754, 2800, 1352, 2213, 6835,\n",
       "       1330, 1353, 3664, 9900, 3250, 2241, 3050, 1510, 1010, 1323, 2770,\n",
       "       4410, 4430, 3648, 6901, 4640, 3051, 3780, 5313, 1385, 4310, 3240,\n",
       "       2211, 3450, 6560, 2320, 1340, 6765, 2390, 5665, 3617, 1300, 4440,\n",
       "       5222, 1363, 2801, 6136])"
      ]
     },
     "execution_count": 563,
     "metadata": {},
     "output_type": "execute_result"
    }
   ],
   "source": [
    "AccountNumber"
   ]
  },
  {
   "cell_type": "markdown",
   "metadata": {},
   "source": [
    "The exact numbers are the following:"
   ]
  },
  {
   "cell_type": "code",
   "execution_count": 564,
   "metadata": {
    "collapsed": false
   },
   "outputs": [
    {
     "data": {
      "text/plain": [
       "array([ 165.,    7.,   30.,    6.,    4.,  116.,    1.,   24.,   24.,\n",
       "         27.,   30.,    1.,   10.,    9.,   31.,    3.,    2.,   27.,\n",
       "         20.,    7.,    3.,    1.,    6.,    7.,    5.,    2.,    3.,\n",
       "          5.,    6.,    1.,    6.,    5.,   19.,    7.,   18.,    3.,\n",
       "          1.,    4.,    7.,   10.,    6.,    3.,    1.,    4.,   12.,\n",
       "          4.,    3.,    4.,    1.,    5.,    4.,    3.,    2.,    4.,\n",
       "          3.,    9.,    2.,    5.,   12.,    1.,    7.,    2.,    1.,\n",
       "          1.,    3.,    2.,    1.,    5.,    1.,    2.,    1.,    1.,\n",
       "          1.,    3.,    1.,    1.,    1.,    3.,    1.,    1.,    1.,\n",
       "          5.,    1.,    1.,    1.,    2.,    1.,    1.,    1.,    2.,\n",
       "          1.,    1.])"
      ]
     },
     "execution_count": 564,
     "metadata": {},
     "output_type": "execute_result"
    }
   ],
   "source": [
    "bakEntriesPerAccount"
   ]
  },
  {
   "cell_type": "markdown",
   "metadata": {},
   "source": [
    "In conclusion: We can expect the majority of the of the transactions to fall within a small number (~5 our of 31) of the accounts. This is usefull to know when building a classifier. But it does not help us actually classify the transactions."
   ]
  },
  {
   "cell_type": "markdown",
   "metadata": {},
   "source": [
    "# Building a baseline classifier<a id='BuildingTheBaselineClassifier'></a>\n",
    "The exploratory analysis presented above suggests that a reasonable baseline would be to establish the frequency of each **speciic** bank entry going into a spefic account. That is, I want to calculate the following: Given a **BankEntryText** what is the probability that it is classified as **AccountNumber**. When I have **P** for each **AccountNumber**, I can sort by **P** and use that as my classifier. \n",
    "\n",
    "It will not be perfect and it only uses a single feature, but it is a good baseline. Any classification system I build should at least be able to beat this raw probability appraoch.\n",
    "\n",
    "For this I will continue to use the company with Conpanyid **int:a055470**"
   ]
  },
  {
   "cell_type": "markdown",
   "metadata": {},
   "source": [
    "## Finding the unique bank entry texts\n",
    "First I find all the unique **BankEntryText** for the Company"
   ]
  },
  {
   "cell_type": "code",
   "execution_count": 565,
   "metadata": {
    "collapsed": false
   },
   "outputs": [],
   "source": [
    "BankEntryText = company_df['BankEntryText'].unique()\n",
    "numUniqueBankEntries = BankEntryText.shape[0]"
   ]
  },
  {
   "cell_type": "markdown",
   "metadata": {},
   "source": [
    "Since the company has a total of **808 bank entries**, finding that **320 of them are unique** is not great for the probabalistic approach. \n",
    "\n",
    "## Etablishing the probabilities\n",
    "I want to use the following abstraction: I will create a matrice containing the unique bank entries and the bank accounts. That is, it will be a matrix with the shape: __num unique banke entries x num bank account__.\n",
    "\n",
    "Each unique bank entry will be a vector of length num bank account."
   ]
  },
  {
   "cell_type": "code",
   "execution_count": 566,
   "metadata": {
    "collapsed": false
   },
   "outputs": [
    {
     "name": "stdout",
     "output_type": "stream",
     "text": [
      "[[  1.   0.   0. ...,   0.   0.   0.]\n",
      " [  0.   1.   0. ...,   0.   0.   0.]\n",
      " [  0.   0.  30. ...,   0.   0.   0.]\n",
      " ..., \n",
      " [  0.   0.   0. ...,   0.   0.   0.]\n",
      " [  0.   0.   0. ...,   0.   0.   1.]\n",
      " [  0.   0.   0. ...,   0.   0.   0.]]\n"
     ]
    }
   ],
   "source": [
    "myMatrix = np.zeros((numUniqueBankEntries,numUniqueAccounts))\n",
    "\n",
    "kk = 0\n",
    "for bankEntry in BankEntryText:\n",
    "    test = company_df[company_df.BankEntryText == bankEntry]\n",
    "    iteration = test['AccountNumber']\n",
    "    \n",
    "    for item in iteration:\n",
    "        accountIndex = AccountNumber == item\n",
    "        myMatrix[kk,:] = myMatrix[kk,:] + accountIndex\n",
    "    \n",
    "    kk += 1\n",
    "    \n",
    "    \n",
    "print(myMatrix)"
   ]
  },
  {
   "cell_type": "markdown",
   "metadata": {},
   "source": [
    "So now we have established a matrix containing the information we want. For each **unique BankEntry** it tell us which accounts these bank entries have been classified to. \n",
    "\n",
    "The simplest version of the classifier takes the maximum of the elements for each row in the matrice and classifies the **unique BankEntry** as belonging to that account."
   ]
  },
  {
   "cell_type": "code",
   "execution_count": 567,
   "metadata": {
    "collapsed": false
   },
   "outputs": [
    {
     "data": {
      "text/plain": [
       "<matplotlib.image.AxesImage object at 0x11c3b6550>"
      ]
     },
     "execution_count": 567,
     "metadata": {},
     "output_type": "execute_result"
    },
    {
     "data": {
      "image/png": "[encoded data removed]",
      "text/plain": [
       "<matplotlib.figure.Figure object at 0x11ac43710>"
      ]
     },
     "metadata": {},
     "output_type": "display_data"
    }
   ],
   "source": [
    "plt.matshow(1-myMatrix,\n",
    "            cmap=plt.cm.gray, vmin=0, vmax=1)"
   ]
  },
  {
   "cell_type": "code",
   "execution_count": 568,
   "metadata": {
    "collapsed": false
   },
   "outputs": [
    {
     "data": {
      "text/plain": [
       "<matplotlib.image.AxesImage object at 0x11c503b90>"
      ]
     },
     "execution_count": 568,
     "metadata": {},
     "output_type": "execute_result"
    },
    {
     "data": {
      "image/png": "[encoded data removed]",
      "text/plain": [
       "<matplotlib.figure.Figure object at 0x11c3dce50>"
      ]
     },
     "metadata": {},
     "output_type": "display_data"
    }
   ],
   "source": [
    "plt.matshow(1-myMatrix[0:20,:],\n",
    "            cmap=plt.cm.gray, vmin=0, vmax=1)"
   ]
  },
  {
   "cell_type": "markdown",
   "metadata": {},
   "source": [
    "So some of the **unique BankEntries** do indeed go to different accounts."
   ]
  },
  {
   "cell_type": "code",
   "execution_count": 569,
   "metadata": {
    "collapsed": false
   },
   "outputs": [
    {
     "data": {
      "text/plain": [
       "array([ 9.,  0.,  0.,  0.,  0.,  0.,  0.,  0.,  0.,  0.,  0.,  0.,  0.,\n",
       "        0.,  2.,  0.,  0.,  0.,  0.,  0.,  0.,  0.,  0.,  0.,  0.,  0.,\n",
       "        0.,  0.,  0.,  0.,  0.,  0.,  0.,  0.,  0.,  0.,  0.,  0.,  0.,\n",
       "        0.,  0.,  0.,  0.,  0.,  0.,  0.,  0.,  0.,  0.,  0.,  0.,  0.,\n",
       "        0.,  0.,  0.,  0.,  0.,  0.,  0.,  0.,  0.,  0.,  0.,  0.,  0.,\n",
       "        0.,  0.,  0.,  0.,  0.,  0.,  0.,  0.,  0.,  0.,  0.,  0.,  0.,\n",
       "        0.,  0.,  0.,  0.,  0.,  0.,  0.,  0.,  0.,  0.,  0.,  0.,  0.,  0.])"
      ]
     },
     "execution_count": 569,
     "metadata": {},
     "output_type": "execute_result"
    }
   ],
   "source": [
    "myMatrix[5,:]"
   ]
  },
  {
   "cell_type": "markdown",
   "metadata": {},
   "source": [
    "## Testing the baseline classifier <a id='TestingTheBaselineClassifier'></a> "
   ]
  },
  {
   "cell_type": "code",
   "execution_count": 570,
   "metadata": {
    "collapsed": false
   },
   "outputs": [
    {
     "name": "stderr",
     "output_type": "stream",
     "text": [
      "/usr/local/lib/python2.7/site-packages/ipykernel/__main__.py:33: VisibleDeprecationWarning: using a non-integer number instead of an integer will result in an error in the future\n"
     ]
    }
   ],
   "source": [
    "# Divide the dataset into 80% train set and 20% test set\n",
    "percentTrainSize = 0.8\n",
    "trainSize = int(round(percentTrainSize*company_df.shape[0]))\n",
    "testSize = int(company_df.shape[0]-trainSize)\n",
    "\n",
    "train_df = company_df.head(trainSize)\n",
    "test_df = company_df.tail(testSize)\n",
    "\n",
    "# Build the matrice on the train set\n",
    "trainMatrix = np.zeros((numUniqueBankEntries,numUniqueAccounts))\n",
    "kk = 0\n",
    "for bankEntry in BankEntryText:\n",
    "    temp_df = train_df[train_df.BankEntryText == bankEntry]\n",
    "    iteration = temp_df['AccountNumber']\n",
    "    for item in iteration:\n",
    "        accountIndex = AccountNumber == item\n",
    "        trainMatrix[kk,:] = trainMatrix[kk,:] + accountIndex\n",
    "    kk += 1\n",
    "    \n",
    "    \n",
    "\n",
    "# Find the maximal element in the matrice and save a dictionary that contains BankEntry string and Account number\n",
    "indices = np.zeros(len(trainMatrix))\n",
    "for row in range(0,len(trainMatrix)):\n",
    "    index = np.where(trainMatrix[row,:]==max(trainMatrix[row,:]))\n",
    "    indices[row] = index[0][0]\n",
    "    #trainMatrix[row,index][0][0]\n",
    "\n",
    "# Making the dictionary\n",
    "kk=0\n",
    "bankEntryTextToAccountNumber = {}\n",
    "for bankEntry in BankEntryText:\n",
    "    bankEntryTextToAccountNumber[bankEntry] = AccountNumber[indices[kk]]\n",
    "    kk += 1"
   ]
  },
  {
   "cell_type": "code",
   "execution_count": 571,
   "metadata": {
    "collapsed": false
   },
   "outputs": [
    {
     "name": "stdout",
     "output_type": "stream",
     "text": [
      "Number of test cases is: 162\n",
      "number of correct predictions is: 96.0\n",
      "The accuracy is: 0.592592592593\n"
     ]
    }
   ],
   "source": [
    "y_test = np.zeros((testSize,1))\n",
    "kk = 0\n",
    "for account in test_df['AccountNumber']:\n",
    "    y_test[kk] = account\n",
    "    kk += 1\n",
    "    \n",
    "kk = 0\n",
    "y_predict = np.zeros((testSize,1))\n",
    "for text in test_df['BankEntryText']:\n",
    "    y_predict[kk] = bankEntryTextToAccountNumber[text]\n",
    "    kk += 1\n",
    "\n",
    "numCorrect = float(sum(y_predict==y_test))\n",
    "accuracy = numCorrect/testSize\n",
    "\n",
    "print('Number of test cases is: ' + str(testSize))\n",
    "print('number of correct predictions is: ' + str(numCorrect))\n",
    "print('The accuracy is: ' + str(accuracy))\n"
   ]
  },
  {
   "cell_type": "markdown",
   "metadata": {},
   "source": [
    "For a base line that isn't bad"
   ]
  },
  {
   "cell_type": "markdown",
   "metadata": {},
   "source": [
    "# Running the classifier on each company"
   ]
  },
  {
   "cell_type": "code",
   "execution_count": 572,
   "metadata": {
    "collapsed": false
   },
   "outputs": [],
   "source": [
    "import baselineClassifier as bsclf\n",
    "reload(bsclf)\n",
    "\n",
    "allTestSizes = np.zeros((100,1))\n",
    "allNumCorrect = np.zeros((100,1))\n",
    "allAccuracies = np.zeros((100,1))\n",
    "kk=0\n",
    "for company in companies:\n",
    "    company_df = data[data.CompanyId == company]\n",
    "    testSize, numCorrect, accuracy = bsclf.baselineClassifier(company_df)\n",
    "    \n",
    "    allTestSizes[kk] = testSize\n",
    "    allNumCorrect[kk] = numCorrect\n",
    "    allAccuracies[kk] = accuracy\n",
    "    \n",
    "    kk += 1"
   ]
  },
  {
   "cell_type": "code",
   "execution_count": 573,
   "metadata": {
    "collapsed": false
   },
   "outputs": [
    {
     "name": "stdout",
     "output_type": "stream",
     "text": [
      "The average accuracy is: [ 0.32940156]\n"
     ]
    },
    {
     "data": {
      "image/png": "[encoded data removed]",
      "text/plain": [
       "<matplotlib.figure.Figure object at 0x11ac5fb90>"
      ]
     },
     "metadata": {},
     "output_type": "display_data"
    }
   ],
   "source": [
    "avgAccuracy = sum(allAccuracies)/len(allAccuracies)\n",
    "\n",
    "plt.plot(allTestSizes,allAccuracies,'or')\n",
    "plt.plot([0, 1000],[avgAccuracy, avgAccuracy],'-b')\n",
    "plt.axis([0, 1000, 0, 1])\n",
    "plt.xlabel('test size')\n",
    "plt.ylabel('Accuracy')\n",
    "\n",
    "print('The average accuracy is: ' + str(avgAccuracy))"
   ]
  },
  {
   "cell_type": "code",
   "execution_count": 578,
   "metadata": {
    "collapsed": false
   },
   "outputs": [
    {
     "data": {
      "text/plain": [
       "<matplotlib.text.Text object at 0x121e28090>"
      ]
     },
     "execution_count": 578,
     "metadata": {},
     "output_type": "execute_result"
    },
    {
     "data": {
      "image/png": "[encoded data removed]",
      "text/plain": [
       "<matplotlib.figure.Figure object at 0x121115b90>"
      ]
     },
     "metadata": {},
     "output_type": "display_data"
    }
   ],
   "source": [
    "plt.hist(allAccuracies)\n",
    "plt.ylabel('number of companies')\n",
    "plt.xlabel('Accuracy')"
   ]
  },
  {
   "cell_type": "markdown",
   "metadata": {},
   "source": [
    "### Summary of the baseline classifier"
   ]
  },
  {
   "cell_type": "markdown",
   "metadata": {},
   "source": [
    "# The second part<a id='TheSecondPart'></a>\n",
    "Making a classifier that can take advantage of data across different companies. The allows us to avoid the __cold start__ problem.\n",
    "\n",
    "### Makking text onto features\n",
    "One way to get around this is to build a classifier that is based on the name of the account name rather than the speficic account id. In this way, if a company open up a new account with a title that is allready known we would be able to use the information from other companies. "
   ]
  }
 ],
 "metadata": {
  "kernelspec": {
   "display_name": "Python 2",
   "language": "python",
   "name": "python2"
  },
  "language_info": {
   "codemirror_mode": {
    "name": "ipython",
    "version": 2
   },
   "file_extension": ".py",
   "mimetype": "text/x-python",
   "name": "python",
   "nbconvert_exporter": "python",
   "pygments_lexer": "ipython2",
   "version": "2.7.9"
  }
 },
 "nbformat": 4,
 "nbformat_minor": 2
}
